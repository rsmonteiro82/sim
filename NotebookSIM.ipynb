{
 "cells": [
  {
   "cell_type": "code",
   "execution_count": null,
   "metadata": {
    "executionInfo": {
     "elapsed": 1824,
     "status": "ok",
     "timestamp": 1606954703747,
     "user": {
      "displayName": "Rodrigo Monteiro",
      "photoUrl": "https://lh3.googleusercontent.com/a-/AOh14GjwBbh_WlcCV8ZT8L-BVda4Ijw2T-Zep05Lv4ZDUGw=s64",
      "userId": "00960159796531512393"
     },
     "user_tz": 180
    },
    "id": "-AAEw92zDF86"
   },
   "outputs": [],
   "source": [
    "import pandas as pd\n",
    "import plotly\n",
    "import plotly.express as px\n",
    "import urllib.request\n",
    "import json"
   ]
  },
  {
   "cell_type": "code",
   "execution_count": null,
   "metadata": {
    "colab": {
     "base_uri": "https://localhost:8080/"
    },
    "executionInfo": {
     "elapsed": 3375,
     "status": "ok",
     "timestamp": 1606955257272,
     "user": {
      "displayName": "Rodrigo Monteiro",
      "photoUrl": "https://lh3.googleusercontent.com/a-/AOh14GjwBbh_WlcCV8ZT8L-BVda4Ijw2T-Zep05Lv4ZDUGw=s64",
      "userId": "00960159796531512393"
     },
     "user_tz": 180
    },
    "id": "EKaV_h_xuBU1",
    "outputId": "2434a092-9286-4d8b-b578-8e08d71b3fae"
   },
   "outputs": [],
   "source": [
    "!pip install plotly==4.13.0"
   ]
  },
  {
   "cell_type": "code",
   "execution_count": null,
   "metadata": {
    "colab": {
     "base_uri": "https://localhost:8080/"
    },
    "id": "fHIbxlZHt2FA",
    "outputId": "7e89fcbb-06de-412d-d1e1-3b004aa2df4d"
   },
   "outputs": [],
   "source": [
    "print(plotly.__version__)"
   ]
  },
  {
   "cell_type": "code",
   "execution_count": null,
   "metadata": {
    "colab": {
     "base_uri": "https://localhost:8080/",
     "height": 211
    },
    "executionInfo": {
     "elapsed": 795,
     "status": "error",
     "timestamp": 1606955261834,
     "user": {
      "displayName": "Rodrigo Monteiro",
      "photoUrl": "https://lh3.googleusercontent.com/a-/AOh14GjwBbh_WlcCV8ZT8L-BVda4Ijw2T-Zep05Lv4ZDUGw=s64",
      "userId": "00960159796531512393"
     },
     "user_tz": 180
    },
    "id": "WCTTT1XZDR6-",
    "outputId": "216b75e5-9c11-4bbd-b05c-5ad81517f234"
   },
   "outputs": [],
   "source": [
    "df_mortes_ufocor = pd.read_csv('df_mortes_ufocor.csv')\n",
    "\n",
    "df_mortes_munocor = pd.read_csv('df_mortes_munocor.csv')"
   ]
  },
  {
   "cell_type": "code",
   "execution_count": null,
   "metadata": {
    "colab": {
     "base_uri": "https://localhost:8080/",
     "height": 206
    },
    "id": "ABSQEMgNDlEm",
    "outputId": "bf5e90de-86a9-479e-f090-c76ea26cec7f"
   },
   "outputs": [],
   "source": [
    "df_mortes_ufocor.head()"
   ]
  },
  {
   "cell_type": "code",
   "execution_count": null,
   "metadata": {
    "colab": {
     "base_uri": "https://localhost:8080/",
     "height": 424
    },
    "id": "cyUK_easrh7L",
    "outputId": "851411a9-6c9a-4e4a-e22c-8c7889dc4a49"
   },
   "outputs": [],
   "source": [
    "df_mortes_ufocor_melted = df_mortes_ufocor.melt(id_vars=['Cód', 'Unidade da Federação', 'lat', 'lon'], var_name='Ano', value_name='Mortes')\n",
    "\n",
    "df_mortes_ufocor_melted"
   ]
  },
  {
   "cell_type": "code",
   "execution_count": null,
   "metadata": {
    "id": "GnR5fjKd89aK",
    "outputId": "cf0e9822-3fe3-4e81-e0a0-e9cc41d3c30d"
   },
   "outputs": [],
   "source": [
    "df_mortes_munocor_melted = df_mortes_munocor.melt(id_vars=['Cód', 'Município', 'lat', 'lon'], var_name='Ano', value_name='Mortes')\n",
    "\n",
    "df_mortes_munocor_melted"
   ]
  },
  {
   "cell_type": "code",
   "execution_count": null,
   "metadata": {
    "id": "P-nWi43389aK",
    "outputId": "82e8ffae-9116-46d2-edf0-5f7cea12c9f4"
   },
   "outputs": [],
   "source": [
    "fig1 = px.scatter_mapbox(df_mortes_munocor_melted,\n",
    "                        lat='lat',\n",
    "                        lon='lon',\n",
    "                        center={'lat': -15.79, 'lon': -47.88},\n",
    "                        hover_name='Município',\n",
    "                        size='Mortes',\n",
    "                        size_max=40,\n",
    "                        animation_frame='Ano',\n",
    "                        color=[1 for i in range(61270)],\n",
    "                        color_continuous_scale='Reds',\n",
    "                        mapbox_style='open-street-map',\n",
    "                        zoom=3,\n",
    "                        height=700,\n",
    "                        )\n",
    "\n",
    "fig1.update_layout(coloraxis_showscale=False)\n",
    "\n",
    "fig1.update_layout(title_text='Mortes no Brasil por município de ocorrência',\n",
    "                  title_font_size=20,\n",
    "                  title_x=0.5,\n",
    "                  hoverlabel=dict(\n",
    "                  bgcolor='black',    \n",
    "                  font_size=16,        \n",
    "                  font_family='Arial')\n",
    "                  )\n",
    "\n",
    "fig1.update_layout(margin=dict(l=150, r=150, t=75, b=0))\n",
    "\n",
    "fig1['layout']['sliders'][0]['currentvalue']['prefix'] = 'Ano: '\n",
    "fig1.layout.updatemenus[0].buttons[0].args[1][\"frame\"][\"duration\"] = 1000\n",
    "\n",
    "fig1.show()"
   ]
  },
  {
   "cell_type": "code",
   "execution_count": null,
   "metadata": {
    "id": "Wg9SZ3A989aN",
    "outputId": "ee213330-e892-4d72-c41f-9d61e1deaa9c"
   },
   "outputs": [],
   "source": [
    "df_causas = pd.read_csv('df_causas.csv')\n",
    "\n",
    "df_causas.head()"
   ]
  },
  {
   "cell_type": "code",
   "execution_count": null,
   "metadata": {
    "id": "Gl9VOwaW89aN"
   },
   "outputs": [],
   "source": [
    "# pip install raceplotly"
   ]
  },
  {
   "cell_type": "code",
   "execution_count": null,
   "metadata": {
    "id": "Tpfbsit_89aN",
    "outputId": "24ad6975-f60f-4a66-8f00-6a45f5fa03e4"
   },
   "outputs": [],
   "source": [
    "from raceplotly.plots import barplot\n",
    "\n",
    "my_raceplot = barplot(df_causas,\n",
    "                      item_column='Descricao',\n",
    "                      value_column='Quant',\n",
    "                      time_column='Ano')\n",
    "\n",
    "fig2 = my_raceplot.plot(title = 'Causas de mortes mais frequentes no Brasil entre 2008 e 2018<br>por categoria do CID-10',\n",
    "                        item_label = 'Causas',\n",
    "                        value_label = 'Número de mortes',\n",
    "                        frame_duration = 1500)\n",
    "\n",
    "fig2.update_layout(xaxis=dict(range=[0, 100000]),\n",
    "                   height=700,\n",
    "                   title_font_size=20,\n",
    "                   title_x=0.5)\n",
    "\n",
    "for num in range(11):\n",
    "        fig2['frames'][num]['layout']['xaxis']['range'] = [0, 100000]\n",
    "\n",
    "fig2['layout']['sliders'][0]['currentvalue']['prefix'] = 'Ano: '\n",
    "\n",
    "fig2.update_layout(margin=dict(l=150, r=150, t=75, b=0))\n",
    "        \n",
    "fig2.show()"
   ]
  },
  {
   "cell_type": "code",
   "execution_count": null,
   "metadata": {
    "id": "HErcj39089aP"
   },
   "outputs": [],
   "source": [
    "# print(fig2)"
   ]
  },
  {
   "cell_type": "code",
   "execution_count": null,
   "metadata": {
    "id": "ASZif8HP89aP",
    "outputId": "9c9a475c-912b-46ba-f18e-1cf847270ed3"
   },
   "outputs": [],
   "source": [
    "def read_geojson(url):\n",
    "    with urllib.request.urlopen(url) as url:\n",
    "        jdata = json.loads(url.read().decode())\n",
    "    return jdata\n",
    "\n",
    "estados = read_geojson('https://raw.githubusercontent.com/codeforamerica/click_that_hood/master/public/data/brazil-states.geojson')\n",
    "\n",
    "df_suicidios = pd.read_csv('df_suicidios.csv')\n",
    "\n",
    "df_suicidios.drop(columns=[str(x) for x in range(2008, 2019)], inplace=True)\n",
    "\n",
    "df_suicidios.rename(columns={'tx2008':'2008', 'tx2009':'2009', 'tx2010':'2010', 'tx2011':'2011', 'tx2012':'2012', 'tx2013':'2013',\n",
    "                             'tx2014':'2014', 'tx2015':'2015', 'tx2016':'2016', 'tx2017':'2017', 'tx2018':'2018'}, inplace=True)\n",
    "\n",
    "df_suicidios.head()"
   ]
  },
  {
   "cell_type": "code",
   "execution_count": null,
   "metadata": {
    "id": "D8d61sH289aP",
    "outputId": "35f4c484-6521-4be3-99e9-ea6a5c192a13"
   },
   "outputs": [],
   "source": [
    "df_suicidios_melted = df_suicidios.melt(id_vars=['Cód', 'UF', 'lat', 'lon'], var_name='Ano', value_name='Taxa')\n",
    "\n",
    "df_suicidios_melted.head()"
   ]
  },
  {
   "cell_type": "code",
   "execution_count": null,
   "metadata": {
    "id": "yHf-Q1As89aP",
    "outputId": "4f1dd6a6-0baf-4a35-c7c7-4bec2c958f02"
   },
   "outputs": [],
   "source": [
    "fig4 = px.choropleth_mapbox(df_suicidios_melted,\n",
    "                            locations='UF',\n",
    "                            geojson=estados,\n",
    "                            center={'lat': -15.79, 'lon': -47.88},\n",
    "                            featureidkey ='properties.name',\n",
    "                            hover_name=\"UF\",\n",
    "                            color='Taxa',\n",
    "                            color_continuous_scale='ylorbr',\n",
    "                            animation_frame='Ano',\n",
    "                            height=700,\n",
    "                            mapbox_style='carto-darkmatter',\n",
    "                            zoom=3,\n",
    "                            range_color=[0, 13]\n",
    "                            )\n",
    "\n",
    "fig4.update_layout(title_text='Taxa de suicídios por 100 mil habitantes por estados',\n",
    "                   title_font_size=20,\n",
    "                   title_x=0.5,\n",
    "                   )\n",
    "\n",
    "fig4.update_layout(margin=dict(l=150, r=150, t=75, b=0))\n",
    "\n",
    "fig4['layout']['sliders'][0]['currentvalue']['prefix'] = 'Ano: '\n",
    "fig4.layout.updatemenus[0].buttons[0].args[1][\"frame\"][\"duration\"] = 1000\n",
    "\n",
    "fig4.show()"
   ]
  },
  {
   "cell_type": "code",
   "execution_count": null,
   "metadata": {
    "id": "Ak--om_B89at"
   },
   "outputs": [],
   "source": [
    "# pip install dash==1.17.0"
   ]
  },
  {
   "cell_type": "code",
   "execution_count": null,
   "metadata": {
    "colab": {
     "base_uri": "https://localhost:8080/",
     "height": 527
    },
    "id": "9uHKTwbXR8aX",
    "outputId": "95e1c025-9268-429d-e720-1b32238cd996"
   },
   "outputs": [],
   "source": [
    "import dash\n",
    "import dash_core_components as dcc\n",
    "import dash_html_components as html\n",
    "\n",
    "app = dash.Dash()\n",
    "\n",
    "fig_names = ['Questão 1', 'Questão 2', 'Questão 3']\n",
    "fig_dropdown = html.Div([\n",
    "    dcc.Dropdown(\n",
    "        id='fig_dropdown',\n",
    "        options=[{'label': x, 'value': x} for x in fig_names],\n",
    "        value=None\n",
    "    )])\n",
    "fig_plot = html.Div(id='fig_plot')\n",
    "app.layout = html.Div([fig_dropdown, fig_plot])\n",
    "\n",
    "@app.callback(\n",
    "dash.dependencies.Output('fig_plot', 'children'),\n",
    "[dash.dependencies.Input('fig_dropdown', 'value')])\n",
    "def update_output(fig_name):\n",
    "    return name_to_figure(fig_name)\n",
    "\n",
    "def name_to_figure(fig_name):\n",
    "    if fig_name == 'Questão 1':\n",
    "        return dcc.Graph(figure=fig1)\n",
    "    elif fig_name == 'Questão 2': \n",
    "        return dcc.Graph(figure=fig2)\n",
    "    elif fig_name == 'Questão 3':\n",
    "        return dcc.Graph(figure=fig4)\n",
    "\n",
    "app.run_server(debug=True, use_reloader=False)"
   ]
  }
 ],
 "metadata": {
  "colab": {
   "collapsed_sections": [],
   "name": "Q1.ipynb",
   "provenance": []
  },
  "kernelspec": {
   "display_name": "Python 3",
   "language": "python",
   "name": "python3"
  },
  "language_info": {
   "codemirror_mode": {
    "name": "ipython",
    "version": 3
   },
   "file_extension": ".py",
   "mimetype": "text/x-python",
   "name": "python",
   "nbconvert_exporter": "python",
   "pygments_lexer": "ipython3",
   "version": "3.8.3"
  }
 },
 "nbformat": 4,
 "nbformat_minor": 1
}
